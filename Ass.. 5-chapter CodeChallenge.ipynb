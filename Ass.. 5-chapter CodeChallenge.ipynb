{
 "cells": [
  {
   "attachments": {},
   "cell_type": "markdown",
   "metadata": {},
   "source": [
    "First Question ===>>   it's purpose of this challenge is to get you thinking the mechancs of matrix multiplication"
   ]
  },
  {
   "cell_type": "code",
   "execution_count": 6,
   "metadata": {},
   "outputs": [
    {
     "name": "stdout",
     "output_type": "stream",
     "text": [
      "[[-3.34180325  2.36301466]\n",
      " [ 2.22047442 -3.19524785]]\n"
     ]
    }
   ],
   "source": [
    "import numpy as np\n",
    "import matplotlib.pyplot as pl\n",
    "A=np.random.randn(4,2)\n",
    "B=np.random.randn(4,2)\n",
    "C=np.zeros((2,2))\n",
    "for coli in range(2):\n",
    "    for colj in range (2):\n",
    "     C[coli,colj]=np.dot(A[: ,coli],B[:, colj])\n",
    "print(C)\n",
    "        "
   ]
  },
  {
   "attachments": {},
   "cell_type": "markdown",
   "metadata": {},
   "source": [
    "Second Question -->>  We  can Just discoverd one way to make a symmetric matrix "
   ]
  },
  {
   "cell_type": "code",
   "execution_count": 11,
   "metadata": {},
   "outputs": [
    {
     "name": "stdout",
     "output_type": "stream",
     "text": [
      "Original matrix   \n",
      " [[-1.68108345  0.          0.          0.        ]\n",
      " [-0.04264765 -1.08788014  0.          0.        ]\n",
      " [ 1.28835899 -0.29296449  1.36273844  0.        ]\n",
      " [ 0.29796255 -0.13850684  0.35662287 -0.20442444]]\n",
      "\n",
      " Restul is  >  \n",
      " [[-336.   -4.  129.   30.]\n",
      " [  -4. -218.  -29.  -14.]\n",
      " [ 129.  -29.  273.   36.]\n",
      " [  30.  -14.   36.  -41.]]\n"
     ]
    }
   ],
   "source": [
    "import numpy as np\n",
    "import matplotlib.pyplot as plt\n",
    "V=np.random.randn(4,4)\n",
    "VT=np.tril(V)\n",
    "print(\"Original matrix   \\n\",(VT))\n",
    "S=VT+VT.T\n",
    "# we can round off the matrix\n",
    "RS=np.round(100*S)\n",
    "print(\"\\n Restul is  >  \\n\" ,(RS))"
   ]
  },
  {
   "attachments": {},
   "cell_type": "markdown",
   "metadata": {},
   "source": [
    "Third Question -->  The point here is to appreciate that indexing the diagonal of a matrix involves the i,j,indeces.\n"
   ]
  },
  {
   "cell_type": "code",
   "execution_count": 16,
   "metadata": {},
   "outputs": [
    {
     "name": "stdout",
     "output_type": "stream",
     "text": [
      "Result is  \n",
      " [[1. 0. 0. 0. 0. 0. 0. 0.]\n",
      " [0. 2. 0. 0. 0. 0. 0. 0.]\n",
      " [0. 0. 3. 0. 0. 0. 0. 0.]\n",
      " [0. 0. 0. 4. 0. 0. 0. 0.]]\n"
     ]
    }
   ],
   "source": [
    "import numpy as np\n",
    "D=np.zeros((4,8))\n",
    "for d in range(min(D.shape)):\n",
    "    D[d,d]=d+1\n",
    "print(\"Result is  \\n\",(D))"
   ]
  }
 ],
 "metadata": {
  "kernelspec": {
   "display_name": "Python 3",
   "language": "python",
   "name": "python3"
  },
  "language_info": {
   "codemirror_mode": {
    "name": "ipython",
    "version": 3
   },
   "file_extension": ".py",
   "mimetype": "text/x-python",
   "name": "python",
   "nbconvert_exporter": "python",
   "pygments_lexer": "ipython3",
   "version": "3.11.1"
  },
  "orig_nbformat": 4,
  "vscode": {
   "interpreter": {
    "hash": "5238573367df39f7286bb46f9ff5f08f63a01a80960060ce41e3c79b190280fa"
   }
  }
 },
 "nbformat": 4,
 "nbformat_minor": 2
}
